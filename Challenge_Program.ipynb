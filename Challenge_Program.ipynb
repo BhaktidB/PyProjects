{
  "nbformat": 4,
  "nbformat_minor": 0,
  "metadata": {
    "colab": {
      "name": "Challenge Program.ipynb",
      "provenance": [],
      "authorship_tag": "ABX9TyNJMIg7r5wj+PMcgXUe7p+5",
      "include_colab_link": true
    },
    "kernelspec": {
      "name": "python3",
      "display_name": "Python 3"
    }
  },
  "cells": [
    {
      "cell_type": "markdown",
      "metadata": {
        "id": "view-in-github",
        "colab_type": "text"
      },
      "source": [
        "<a href=\"https://colab.research.google.com/github/BhaktidB/PyProjects/blob/master/Challenge_Program.ipynb\" target=\"_parent\"><img src=\"https://colab.research.google.com/assets/colab-badge.svg\" alt=\"Open In Colab\"/></a>"
      ]
    },
    {
      "cell_type": "markdown",
      "metadata": {
        "id": "HxHI45zgSpR7"
      },
      "source": [
        "Object Oriented Programming Challenge\r\n",
        "For this challenge, create a bank account class that has two attributes:\r\n",
        "\r\n",
        "owner\r\n",
        "balance\r\n",
        "and two methods:\r\n",
        "\r\n",
        "deposit\r\n",
        "withdraw\r\n",
        "As an added requirement, withdrawals may not exceed the available balance.\r\n",
        "\r\n",
        "Instantiate your class, make several deposits and withdrawals, and test to make sure the account can't be overdrawn."
      ]
    },
    {
      "cell_type": "code",
      "metadata": {
        "id": "tc11dkN5Svdw"
      },
      "source": [
        "class Account:\r\n",
        "    depositm=0\r\n",
        "    withdramm=0\r\n",
        "    def __init__(self,owner,balance):\r\n",
        "      self.owner= owner\r\n",
        "      self.balance=balance\r\n",
        "\r\n",
        "    def __str__(self):\r\n",
        "      return f\"Account owner: {self.owner} \\nAccount Balance: {self.balance}\"\r\n",
        "    \r\n",
        "    \r\n",
        "    def deposit(self,money):\r\n",
        "      self.balance=self.balance+money\r\n",
        "      self.depositm=self.balance\r\n",
        "      return print(\"Deposit Accepted.Total: {}\".format(self.depositm))\r\n",
        "\r\n",
        "    def withdraw(self,money):\r\n",
        "      self.balance=self.balance-money\r\n",
        "      self.withdramm=self.balance\r\n",
        "      if self.withdramm>self.depositm:\r\n",
        "        print(\"Funds Unavailable\")\r\n",
        "      else:\r\n",
        "        print(\"Withdraw Accepted. Total balance: {}\".format(self.withdramm))\r\n"
      ],
      "execution_count": 3,
      "outputs": []
    },
    {
      "cell_type": "code",
      "metadata": {
        "id": "3iHkubnUS0lh"
      },
      "source": [
        "\r\n",
        "# 1. Instantiate the class\r\n",
        "acct1 = Account('Jose',100)"
      ],
      "execution_count": 4,
      "outputs": []
    },
    {
      "cell_type": "code",
      "metadata": {
        "colab": {
          "base_uri": "https://localhost:8080/"
        },
        "id": "bsXL03yCS4MP",
        "outputId": "217be95c-3114-41d7-f403-6a5591176e60"
      },
      "source": [
        "\r\n",
        "# 2. Print the object\r\n",
        "print(acct1)"
      ],
      "execution_count": 5,
      "outputs": [
        {
          "output_type": "stream",
          "text": [
            "Account owner: Jose \n",
            "Account Balance: 100\n"
          ],
          "name": "stdout"
        }
      ]
    },
    {
      "cell_type": "code",
      "metadata": {
        "colab": {
          "base_uri": "https://localhost:8080/",
          "height": 35
        },
        "id": "f0wXgxANS8Jv",
        "outputId": "93f0ed40-8271-41e8-aeb7-6095bb3dfbc8"
      },
      "source": [
        "# 3. Show the account owner attribute\r\n",
        "acct1.owner"
      ],
      "execution_count": 6,
      "outputs": [
        {
          "output_type": "execute_result",
          "data": {
            "application/vnd.google.colaboratory.intrinsic+json": {
              "type": "string"
            },
            "text/plain": [
              "'Jose'"
            ]
          },
          "metadata": {
            "tags": []
          },
          "execution_count": 6
        }
      ]
    },
    {
      "cell_type": "code",
      "metadata": {
        "colab": {
          "base_uri": "https://localhost:8080/"
        },
        "id": "-vJAowcSS-mS",
        "outputId": "bc852c6a-ebf0-4e01-c302-0a884c6d390c"
      },
      "source": [
        "\r\n",
        "# 4. Show the account balance attribute\r\n",
        "acct1.balance"
      ],
      "execution_count": 7,
      "outputs": [
        {
          "output_type": "execute_result",
          "data": {
            "text/plain": [
              "100"
            ]
          },
          "metadata": {
            "tags": []
          },
          "execution_count": 7
        }
      ]
    },
    {
      "cell_type": "code",
      "metadata": {
        "colab": {
          "base_uri": "https://localhost:8080/"
        },
        "id": "vPYTAW9vTClv",
        "outputId": "5bf283c4-86e0-4bad-d35c-5fc29cc85314"
      },
      "source": [
        "# 5. Make a series of deposits and withdrawals\r\n",
        "acct1.deposit(50)"
      ],
      "execution_count": 8,
      "outputs": [
        {
          "output_type": "stream",
          "text": [
            "Deposit Accepted.Total: 150\n"
          ],
          "name": "stdout"
        }
      ]
    },
    {
      "cell_type": "code",
      "metadata": {
        "colab": {
          "base_uri": "https://localhost:8080/"
        },
        "id": "9gCf561ATGmv",
        "outputId": "8efcc1fd-9dee-48cd-ba9b-f430364da75b"
      },
      "source": [
        "acct1.withdraw(75)"
      ],
      "execution_count": 9,
      "outputs": [
        {
          "output_type": "stream",
          "text": [
            "Withdraw Accepted. Total balance: 75\n"
          ],
          "name": "stdout"
        }
      ]
    },
    {
      "cell_type": "code",
      "metadata": {
        "colab": {
          "base_uri": "https://localhost:8080/"
        },
        "id": "VIIRHXF-TIxv",
        "outputId": "6f331a37-8b07-40c2-bd7c-9506c311b55c"
      },
      "source": [
        "# 6. Make a withdrawal that exceeds the available balance\r\n",
        "acct1.withdraw(500)"
      ],
      "execution_count": 10,
      "outputs": [
        {
          "output_type": "stream",
          "text": [
            "Withdraw Accepted. Total balance: -425\n"
          ],
          "name": "stdout"
        }
      ]
    },
    {
      "cell_type": "code",
      "metadata": {
        "id": "fcFUpWQsbyFm"
      },
      "source": [
        ""
      ],
      "execution_count": 10,
      "outputs": []
    },
    {
      "cell_type": "code",
      "metadata": {
        "id": "XL-whxfJbxmn"
      },
      "source": [
        ""
      ],
      "execution_count": 10,
      "outputs": []
    },
    {
      "cell_type": "code",
      "metadata": {
        "id": "ulHfZ6DDbxU-"
      },
      "source": [
        ""
      ],
      "execution_count": 10,
      "outputs": []
    },
    {
      "cell_type": "code",
      "metadata": {
        "id": "sP2gjZ5Zb4-H"
      },
      "source": [
        ""
      ],
      "execution_count": 10,
      "outputs": []
    },
    {
      "cell_type": "code",
      "metadata": {
        "id": "6U57O3YFLJ1E"
      },
      "source": [
        "class Cylinder:\r\n",
        "  pi=3.14\r\n",
        "  def __init__(self,heigth=1,radius=1):\r\n",
        "    self.heigth=heigth\r\n",
        "    self.radius=radius\r\n",
        "\r\n",
        "  def volume(self):  \r\n",
        "    return (self.pi*self.radius*self.radius*self.heigth)\r\n",
        "\r\n",
        "  def surface_area(self):\r\n",
        "    return (2*self.pi*self.radius*self.heigth + 2*self.pi*self.radius*self.radius) "
      ],
      "execution_count": 11,
      "outputs": []
    },
    {
      "cell_type": "code",
      "metadata": {
        "id": "PPQowSkzMTvI"
      },
      "source": [
        "c=Cylinder(2,3)"
      ],
      "execution_count": 12,
      "outputs": []
    },
    {
      "cell_type": "code",
      "metadata": {
        "colab": {
          "base_uri": "https://localhost:8080/"
        },
        "id": "yqacKQyLMlAD",
        "outputId": "3f2febc5-fb37-402d-d48e-5841b7f49e09"
      },
      "source": [
        "c.volume()\r\n"
      ],
      "execution_count": 13,
      "outputs": [
        {
          "output_type": "execute_result",
          "data": {
            "text/plain": [
              "56.519999999999996"
            ]
          },
          "metadata": {
            "tags": []
          },
          "execution_count": 13
        }
      ]
    },
    {
      "cell_type": "code",
      "metadata": {
        "colab": {
          "base_uri": "https://localhost:8080/"
        },
        "id": "fXDTLX7RMpTw",
        "outputId": "1cbcb34c-67c0-48e9-f4a9-2ad875fc271e"
      },
      "source": [
        "c.surface_area()"
      ],
      "execution_count": 14,
      "outputs": [
        {
          "output_type": "execute_result",
          "data": {
            "text/plain": [
              "94.19999999999999"
            ]
          },
          "metadata": {
            "tags": []
          },
          "execution_count": 14
        }
      ]
    },
    {
      "cell_type": "code",
      "metadata": {
        "id": "v9aREf1AOH9g"
      },
      "source": [
        "class Line:\r\n",
        "\r\n",
        "  def __init__(self,coord1,coord2):\r\n",
        "    self.coord1=coord1\r\n",
        "    self.coord2=coord2\r\n",
        "\r\n",
        "  def distance(self):  \r\n",
        "    x1,y1=self.coord1\r\n",
        "    x2,y2=self.coord2\r\n",
        "    return ((x2-x1)**2+(y2-y1)**2)**0.5\r\n",
        "\r\n",
        "  def slope(self):  \r\n",
        "    x1,y1=self.coord1\r\n",
        "    x2,y2=self.coord2\r\n",
        "\r\n",
        "    return (y2-y1)/(x2-x1)"
      ],
      "execution_count": 15,
      "outputs": []
    },
    {
      "cell_type": "code",
      "metadata": {
        "id": "2Evc8EZ3OfIb"
      },
      "source": [
        "coordinate1 = (3,2)\r\n",
        "coordinate2 = (8,10)\r\n",
        "\r\n",
        "li = Line(coordinate1,coordinate2)"
      ],
      "execution_count": 16,
      "outputs": []
    },
    {
      "cell_type": "code",
      "metadata": {
        "colab": {
          "base_uri": "https://localhost:8080/"
        },
        "id": "FvZsW74jO1Gl",
        "outputId": "a066ee52-3c1f-4a67-b959-f2d2673f9331"
      },
      "source": [
        "li.distance()"
      ],
      "execution_count": 17,
      "outputs": [
        {
          "output_type": "execute_result",
          "data": {
            "text/plain": [
              "9.433981132056603"
            ]
          },
          "metadata": {
            "tags": []
          },
          "execution_count": 17
        }
      ]
    },
    {
      "cell_type": "code",
      "metadata": {
        "colab": {
          "base_uri": "https://localhost:8080/"
        },
        "id": "ms7JHP3sO35Y",
        "outputId": "80f33e88-de05-476b-de61-da9d5584df96"
      },
      "source": [
        "li.slope()"
      ],
      "execution_count": 18,
      "outputs": [
        {
          "output_type": "execute_result",
          "data": {
            "text/plain": [
              "1.6"
            ]
          },
          "metadata": {
            "tags": []
          },
          "execution_count": 18
        }
      ]
    },
    {
      "cell_type": "code",
      "metadata": {
        "id": "V5jFH8RncMgZ"
      },
      "source": [
        ""
      ],
      "execution_count": 18,
      "outputs": []
    },
    {
      "cell_type": "code",
      "metadata": {
        "id": "W546lmixcMW-"
      },
      "source": [
        ""
      ],
      "execution_count": 18,
      "outputs": []
    },
    {
      "cell_type": "code",
      "metadata": {
        "id": "cbJQfeltcMOK"
      },
      "source": [
        ""
      ],
      "execution_count": 18,
      "outputs": []
    },
    {
      "cell_type": "code",
      "metadata": {
        "id": "AoMPtYs6cD1t"
      },
      "source": [
        ""
      ],
      "execution_count": 18,
      "outputs": []
    },
    {
      "cell_type": "markdown",
      "metadata": {
        "id": "vkWYwOe1IvAn"
      },
      "source": [
        "Special /Dunder **Methods**"
      ]
    },
    {
      "cell_type": "code",
      "metadata": {
        "id": "v722wptfpZFb"
      },
      "source": [
        "class Book:\r\n",
        "\r\n",
        "  def __init__(self,book, author,pages,price):\r\n",
        "    self.book=book\r\n",
        "    self.author=author\r\n",
        "    self.pages=pages\r\n",
        "    self.price=price\r\n",
        "\r\n",
        "#__str__(self) is used to return the string of init\r\n",
        "  def __str__(self):\r\n",
        "    return f\"hello name of book is {self.book} written by {self.author}\"\r\n",
        "\r\n",
        "  #__len__(self) is used to find the length \r\n",
        "  def __len__(self):\r\n",
        "    return self.pages\r\n",
        "\r\n",
        "  #__del__(self) is used to give some message when deleting object from memory of computer\r\n",
        "  def __del__(self):\r\n",
        "    print(\"object has been deleted from the memory\")  "
      ],
      "execution_count": 19,
      "outputs": []
    },
    {
      "cell_type": "code",
      "metadata": {
        "id": "rkbuPzAyJCF4"
      },
      "source": [
        "b=Book(\"Biography\",\"Bhakti\",300,250)"
      ],
      "execution_count": 20,
      "outputs": []
    },
    {
      "cell_type": "code",
      "metadata": {
        "colab": {
          "base_uri": "https://localhost:8080/"
        },
        "id": "17f-QI79JVvh",
        "outputId": "35ffd5eb-029d-458c-c136-2bbc753ee2dd"
      },
      "source": [
        "print(b)"
      ],
      "execution_count": 21,
      "outputs": [
        {
          "output_type": "stream",
          "text": [
            "hello name of book is Biography written by Bhakti\n"
          ],
          "name": "stdout"
        }
      ]
    },
    {
      "cell_type": "code",
      "metadata": {
        "colab": {
          "base_uri": "https://localhost:8080/"
        },
        "id": "W4V6x68AJYuN",
        "outputId": "3487d181-862b-4686-c73a-4bfd04ba1a6b"
      },
      "source": [
        "b.price"
      ],
      "execution_count": 22,
      "outputs": [
        {
          "output_type": "execute_result",
          "data": {
            "text/plain": [
              "250"
            ]
          },
          "metadata": {
            "tags": []
          },
          "execution_count": 22
        }
      ]
    },
    {
      "cell_type": "code",
      "metadata": {
        "colab": {
          "base_uri": "https://localhost:8080/"
        },
        "id": "_IZ6pRc8Kpxk",
        "outputId": "85bd901e-e3db-4833-965d-9e87dca6f594"
      },
      "source": [
        "len(b)"
      ],
      "execution_count": 23,
      "outputs": [
        {
          "output_type": "execute_result",
          "data": {
            "text/plain": [
              "300"
            ]
          },
          "metadata": {
            "tags": []
          },
          "execution_count": 23
        }
      ]
    },
    {
      "cell_type": "code",
      "metadata": {
        "colab": {
          "base_uri": "https://localhost:8080/"
        },
        "id": "NrBycu2IKtOo",
        "outputId": "37f4d4bb-003f-42c1-a7ee-56e8efe3bd72"
      },
      "source": [
        "del b"
      ],
      "execution_count": 24,
      "outputs": [
        {
          "output_type": "stream",
          "text": [
            "object has been deleted from the memory\n"
          ],
          "name": "stdout"
        }
      ]
    },
    {
      "cell_type": "markdown",
      "metadata": {
        "id": "R9kx7hXAbw9u"
      },
      "source": [
        ""
      ]
    },
    {
      "cell_type": "code",
      "metadata": {
        "id": "xHW62Jqo1W91",
        "colab": {
          "base_uri": "https://localhost:8080/"
        },
        "outputId": "b88ccbd7-9f1d-4f81-8723-b1cb02eb62b7"
      },
      "source": [
        "\r\n",
        "'''\r\n",
        "we only use self in class n object concept\r\n",
        "but when defining a function(which is outside class) we dont use self\r\n",
        "function inside class is called method and so it has a default parameter as self that is the object is point to class\r\n",
        "'''\r\n",
        "\r\n",
        "\r\n",
        "\r\n",
        "class Person:\r\n",
        "  def __init__(self,myname,age):\r\n",
        "    #attributes\r\n",
        "    #we take in arg and assign it self.attribute\r\n",
        "    self.name=myname\r\n",
        "    #encapsulation\r\n",
        "    self.__age=age\r\n",
        "    self.gender = 'female'\r\n",
        "\r\n",
        "  def talk(self):\r\n",
        "    print(\"hello \"+self.name)\r\n",
        "\r\n",
        "  \r\n",
        "  \r\n",
        "  def detail(self):\r\n",
        "    print(\"hi\",self.gender)\r\n",
        "\r\n",
        "  def age(self):\r\n",
        "    #accessing special var\r\n",
        "    print(\"hello \",self._Person__age)\r\n",
        "\r\n",
        "p1=Person(\"bhakti\",20)\r\n",
        "p1.talk()\r\n",
        "p1.age()\r\n",
        "p1.detail()\r\n",
        "\r\n",
        "\r\n",
        "class Person2():\r\n",
        "  def __init__(self,name):\r\n",
        "    print(\"hello this is where person2 class starts\")\r\n",
        "    self.name=name\r\n",
        "  def talk(self):\r\n",
        "    print(\"present! \",self.name)\r\n",
        "\r\n",
        "\r\n",
        "\r\n",
        "p2 = Person2(\"Bhakti\")\r\n",
        "p3 = Person2(\"naruto\")\r\n",
        "p2.talk()\r\n",
        "p3.talk()\r\n",
        "#self is refereing to instance(variable of class) \r\n",
        "#self can be written as anything \r\n",
        "# __init__(self) is constructor of class calls automatically everytime object is created"
      ],
      "execution_count": 25,
      "outputs": [
        {
          "output_type": "stream",
          "text": [
            "hello bhakti\n",
            "hello  20\n",
            "hi female\n",
            "hello this is where person2 class starts\n",
            "hello this is where person2 class starts\n",
            "present!  Bhakti\n",
            "present!  naruto\n"
          ],
          "name": "stdout"
        }
      ]
    },
    {
      "cell_type": "code",
      "metadata": {
        "id": "ku4TpYkMcjL9"
      },
      "source": [
        ""
      ],
      "execution_count": 25,
      "outputs": []
    },
    {
      "cell_type": "code",
      "metadata": {
        "id": "BWl4WCaRcjJD"
      },
      "source": [
        ""
      ],
      "execution_count": 25,
      "outputs": []
    },
    {
      "cell_type": "code",
      "metadata": {
        "id": "1YAqHwKmcjGL"
      },
      "source": [
        ""
      ],
      "execution_count": 25,
      "outputs": []
    },
    {
      "cell_type": "code",
      "metadata": {
        "id": "MYlS9RpYcjCs"
      },
      "source": [
        ""
      ],
      "execution_count": 25,
      "outputs": []
    },
    {
      "cell_type": "code",
      "metadata": {
        "id": "rdeFtw-Mci99"
      },
      "source": [
        ""
      ],
      "execution_count": 25,
      "outputs": []
    },
    {
      "cell_type": "markdown",
      "metadata": {
        "id": "O5IwTmbHck9L"
      },
      "source": [
        "MINI PROGRAMS FOR **PRACTICE**"
      ]
    },
    {
      "cell_type": "code",
      "metadata": {
        "colab": {
          "base_uri": "https://localhost:8080/"
        },
        "id": "DletJJbps16A",
        "outputId": "f6ee9125-f1a1-43cd-d287-98949f532583"
      },
      "source": [
        "#volume of sphere\r\n",
        "\r\n",
        "def vol(rad):\r\n",
        "  r =rad**3\r\n",
        "  return 1.33*3.14*r\r\n",
        "\r\n",
        "\r\n",
        "\r\n",
        "print(vol(2))\r\n"
      ],
      "execution_count": 26,
      "outputs": [
        {
          "output_type": "stream",
          "text": [
            "33.409600000000005\n"
          ],
          "name": "stdout"
        }
      ]
    },
    {
      "cell_type": "code",
      "metadata": {
        "id": "MzYZ0E80thaL"
      },
      "source": [
        "#to check whether the number is within the range\r\n",
        "def ran_check(num,low,high):\r\n",
        "  if num>=low and num <= high:\r\n",
        "    return print(f'{num} is within range')\r\n",
        "\r\n",
        "ran_check(8,2,7)  \r\n"
      ],
      "execution_count": 27,
      "outputs": []
    },
    {
      "cell_type": "code",
      "metadata": {
        "colab": {
          "base_uri": "https://localhost:8080/"
        },
        "id": "hYO5TttkvVha",
        "outputId": "43ba1bf3-ecbb-4e7a-a2ea-c6734ae5e52d"
      },
      "source": [
        "#returns unique list\r\n",
        "l1 = [1,1,1,2,2,3,3,4,4,5]\r\n",
        "def unique(list):\r\n",
        "  return set(list)\r\n",
        "\r\n",
        "\r\n",
        "list(unique(l1))\r\n"
      ],
      "execution_count": 29,
      "outputs": [
        {
          "output_type": "execute_result",
          "data": {
            "text/plain": [
              "[1, 2, 3, 4, 5]"
            ]
          },
          "metadata": {
            "tags": []
          },
          "execution_count": 29
        }
      ]
    },
    {
      "cell_type": "code",
      "metadata": {
        "colab": {
          "base_uri": "https://localhost:8080/"
        },
        "id": "Yefx3nS5xtg0",
        "outputId": "f00c8dce-ad59-4ead-e23e-a29a6f8e9d02"
      },
      "source": [
        "#palindrome or not\r\n",
        "def palindrome(sentence):\r\n",
        "  sentence.lower()\r\n",
        "  length = len(sentence)\r\n",
        "  name = sentence\r\n",
        "  sentence = sentence[::-1]\r\n",
        "  if(name==sentence):\r\n",
        "    return print(\"It is palindrome!\")\r\n",
        "\r\n",
        "\r\n",
        "palindrome(\"ollo\")  "
      ],
      "execution_count": 30,
      "outputs": [
        {
          "output_type": "stream",
          "text": [
            "It is palindrome!\n"
          ],
          "name": "stdout"
        }
      ]
    }
  ]
}